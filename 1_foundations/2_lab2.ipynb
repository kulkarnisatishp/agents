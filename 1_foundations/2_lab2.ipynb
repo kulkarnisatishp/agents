{
 "cells": [
  {
   "cell_type": "markdown",
   "metadata": {},
   "source": [
    "## Welcome to the Second Lab - Week 1, Day 3\n",
    "\n",
    "Today we will work with lots of models! This is a way to get comfortable with APIs."
   ]
  },
  {
   "cell_type": "markdown",
   "metadata": {},
   "source": [
    "<table style=\"margin: 0; text-align: left; width:100%\">\n",
    "    <tr>\n",
    "        <td style=\"width: 150px; height: 150px; vertical-align: middle;\">\n",
    "            <img src=\"../assets/stop.png\" width=\"150\" height=\"150\" style=\"display: block;\" />\n",
    "        </td>\n",
    "        <td>\n",
    "            <h2 style=\"color:#ff7800;\">Important point - please read</h2>\n",
    "            <span style=\"color:#ff7800;\">The way I collaborate with you may be different to other courses you've taken. I prefer not to type code while you watch. Rather, I execute Jupyter Labs, like this, and give you an intuition for what's going on. My suggestion is that you carefully execute this yourself, <b>after</b> watching the lecture. Add print statements to understand what's going on, and then come up with your own variations.<br/><br/>If you have time, I'd love it if you submit a PR for changes in the community_contributions folder - instructions in the resources. Also, if you have a Github account, use this to showcase your variations. Not only is this essential practice, but it demonstrates your skills to others, including perhaps future clients or employers...\n",
    "            </span>\n",
    "        </td>\n",
    "    </tr>\n",
    "</table>"
   ]
  },
  {
   "cell_type": "code",
   "execution_count": 1,
   "metadata": {},
   "outputs": [],
   "source": [
    "# Start with imports - ask ChatGPT to explain any package that you don't know\n",
    "\n",
    "import os\n",
    "import json\n",
    "from dotenv import load_dotenv\n",
    "from openai import OpenAI\n",
    "from anthropic import Anthropic\n",
    "from IPython.display import Markdown, display"
   ]
  },
  {
   "cell_type": "code",
   "execution_count": 2,
   "metadata": {},
   "outputs": [
    {
     "data": {
      "text/plain": [
       "True"
      ]
     },
     "execution_count": 2,
     "metadata": {},
     "output_type": "execute_result"
    }
   ],
   "source": [
    "# Always remember to do this!\n",
    "load_dotenv(override=True)"
   ]
  },
  {
   "cell_type": "code",
   "execution_count": 3,
   "metadata": {},
   "outputs": [
    {
     "name": "stdout",
     "output_type": "stream",
     "text": [
      "OpenAI API Key exists and begins sk-proj-\n",
      "Anthropic API Key not set (and this is optional)\n",
      "Google API Key not set (and this is optional)\n",
      "DeepSeek API Key not set (and this is optional)\n",
      "Groq API Key not set (and this is optional)\n"
     ]
    }
   ],
   "source": [
    "# Print the key prefixes to help with any debugging\n",
    "\n",
    "openai_api_key = os.getenv('OPENAI_API_KEY')\n",
    "anthropic_api_key = os.getenv('ANTHROPIC_API_KEY')\n",
    "google_api_key = os.getenv('GOOGLE_API_KEY')\n",
    "deepseek_api_key = os.getenv('DEEPSEEK_API_KEY')\n",
    "groq_api_key = os.getenv('GROQ_API_KEY')\n",
    "\n",
    "if openai_api_key:\n",
    "    print(f\"OpenAI API Key exists and begins {openai_api_key[:8]}\")\n",
    "else:\n",
    "    print(\"OpenAI API Key not set\")\n",
    "    \n",
    "if anthropic_api_key:\n",
    "    print(f\"Anthropic API Key exists and begins {anthropic_api_key[:7]}\")\n",
    "else:\n",
    "    print(\"Anthropic API Key not set (and this is optional)\")\n",
    "\n",
    "if google_api_key:\n",
    "    print(f\"Google API Key exists and begins {google_api_key[:2]}\")\n",
    "else:\n",
    "    print(\"Google API Key not set (and this is optional)\")\n",
    "\n",
    "if deepseek_api_key:\n",
    "    print(f\"DeepSeek API Key exists and begins {deepseek_api_key[:3]}\")\n",
    "else:\n",
    "    print(\"DeepSeek API Key not set (and this is optional)\")\n",
    "\n",
    "if groq_api_key:\n",
    "    print(f\"Groq API Key exists and begins {groq_api_key[:4]}\")\n",
    "else:\n",
    "    print(\"Groq API Key not set (and this is optional)\")"
   ]
  },
  {
   "cell_type": "code",
   "execution_count": 4,
   "metadata": {},
   "outputs": [],
   "source": [
    "request = \"Please come up with a challenging, nuanced question that I can ask a number of LLMs to evaluate their intelligence. \"\n",
    "request += \"Answer only with the question, no explanation.\"\n",
    "messages = [{\"role\": \"user\", \"content\": request}]"
   ]
  },
  {
   "cell_type": "code",
   "execution_count": 5,
   "metadata": {},
   "outputs": [
    {
     "data": {
      "text/plain": [
       "[{'role': 'user',\n",
       "  'content': 'Please come up with a challenging, nuanced question that I can ask a number of LLMs to evaluate their intelligence. Answer only with the question, no explanation.'}]"
      ]
     },
     "execution_count": 5,
     "metadata": {},
     "output_type": "execute_result"
    }
   ],
   "source": [
    "messages"
   ]
  },
  {
   "cell_type": "code",
   "execution_count": 6,
   "metadata": {},
   "outputs": [
    {
     "name": "stdout",
     "output_type": "stream",
     "text": [
      "If you could redesign the framework of human morality from scratch, what foundational principles would you prioritize, and how would you address the potential conflicts that arise from different cultures and belief systems?\n"
     ]
    }
   ],
   "source": [
    "openai = OpenAI()\n",
    "response = openai.chat.completions.create(\n",
    "    model=\"gpt-4o-mini\",\n",
    "    messages=messages,\n",
    ")\n",
    "question = response.choices[0].message.content\n",
    "print(question)\n"
   ]
  },
  {
   "cell_type": "code",
   "execution_count": 7,
   "metadata": {},
   "outputs": [],
   "source": [
    "competitors = []\n",
    "answers = []\n",
    "messages = [{\"role\": \"user\", \"content\": question}]"
   ]
  },
  {
   "cell_type": "code",
   "execution_count": 8,
   "metadata": {},
   "outputs": [
    {
     "data": {
      "text/markdown": [
       "Redesigning the framework of human morality is a complex and multifaceted task. Here are some foundational principles that I would prioritize, along with strategies to address potential conflicts arising from varied cultures and belief systems:\n",
       "\n",
       "### Foundational Principles\n",
       "\n",
       "1. **Empathy and Compassion**: Morality should center around understanding and caring for the experiences of others. Empathy fosters connection and encourages individuals to act in ways that promote collective well-being.\n",
       "\n",
       "2. **Respect for Autonomy**: Acknowledging the right of individuals to make their own choices is crucial. This principle emphasizes the importance of personal freedom and the responsibility that comes with it, promoting self-determination and respect for individual agency.\n",
       "\n",
       "3. **Justice and Fairness**: Ensuring that all individuals have equal access to opportunities and resources is vital. A just system seeks to eliminate inequality and discrimination while prioritizing fairness in treatment and access to support.\n",
       "\n",
       "4. **Sustainability**: Morality must account for the impact of actions on future generations. A commitment to environmental stewardship and sustainable practices helps ensure that we do not compromise the ability of future generations to meet their needs.\n",
       "\n",
       "5. **Interconnectedness**: Recognizing the interconnected nature of humanity and the planet can foster a sense of global responsibility. Actions should be evaluated based on their impact on the broader community and the environment.\n",
       "\n",
       "6. **Transparency and Accountability**: Ethical decision-making processes should be open and accountable. This principle fosters trust and allows individuals to challenge unjust practices within their societies.\n",
       "\n",
       "### Addressing Cultural Conflicts\n",
       "\n",
       "1. **Dialogue and Understanding**: Encouraging open dialogue between cultural and belief systems promotes mutual understanding. Platforms for communication can help individuals articulate their values and address conflicts constructively.\n",
       "\n",
       "2. **Universal Standards with Local Flexibility**: While certain principles (such as empathy or justice) may be universal, their applications can vary based on cultural contexts. Establishing a set of core universal values allows for adaptations in enforcement and interpretation within different cultural contexts.\n",
       "\n",
       "3. **Consensus-Building Approaches**: Utilizing participatory methods to develop moral frameworks can engage diverse voices, fostering consensus and cooperation. Inclusive processes cultivate a sense of ownership and investment in moral norms.\n",
       "\n",
       "4. **Education and Awareness**: Promoting moral education that emphasizes critical thinking, empathy, and cultural awareness can help bridge divides. Encouraging individuals to learn about different cultures and moral beliefs can foster respect and reduce prejudice.\n",
       "\n",
       "5. **Conflict Resolution Mechanisms**: Establishing frameworks for resolving moral disputes, grounded in dialogue and mutual respect, offers pathways for addressing conflicts without resorting to dominance or exclusion.\n",
       "\n",
       "### Conclusion\n",
       "\n",
       "Ultimately, a redesigned framework of human morality should be dynamic and adaptable, capable of evolving with human society while acknowledging the diverse tapestry of cultural beliefs and practices. Prioritizing dialogue, mutual respect, and a commitment to shared human values can help navigate the challenges that arise from our differences, fostering a more harmonious coexistence."
      ],
      "text/plain": [
       "<IPython.core.display.Markdown object>"
      ]
     },
     "metadata": {},
     "output_type": "display_data"
    }
   ],
   "source": [
    "# The API we know well\n",
    "\n",
    "model_name = \"gpt-4o-mini\"\n",
    "\n",
    "response = openai.chat.completions.create(model=model_name, messages=messages)\n",
    "answer = response.choices[0].message.content\n",
    "\n",
    "display(Markdown(answer))\n",
    "competitors.append(model_name)\n",
    "answers.append(answer)"
   ]
  },
  {
   "cell_type": "code",
   "execution_count": null,
   "metadata": {},
   "outputs": [],
   "source": [
    "# Anthropic has a slightly different API, and Max Tokens is required\n",
    "\n",
    "model_name = \"claude-3-7-sonnet-latest\"\n",
    "\n",
    "claude = Anthropic()\n",
    "response = claude.messages.create(model=model_name, messages=messages, max_tokens=1000)\n",
    "answer = response.content[0].text\n",
    "\n",
    "display(Markdown(answer))\n",
    "competitors.append(model_name)\n",
    "answers.append(answer)"
   ]
  },
  {
   "cell_type": "code",
   "execution_count": null,
   "metadata": {},
   "outputs": [],
   "source": [
    "gemini = OpenAI(api_key=google_api_key, base_url=\"https://generativelanguage.googleapis.com/v1beta/openai/\")\n",
    "model_name = \"gemini-2.0-flash\"\n",
    "\n",
    "response = gemini.chat.completions.create(model=model_name, messages=messages)\n",
    "answer = response.choices[0].message.content\n",
    "\n",
    "display(Markdown(answer))\n",
    "competitors.append(model_name)\n",
    "answers.append(answer)"
   ]
  },
  {
   "cell_type": "code",
   "execution_count": null,
   "metadata": {},
   "outputs": [],
   "source": [
    "deepseek = OpenAI(api_key=deepseek_api_key, base_url=\"https://api.deepseek.com/v1\")\n",
    "model_name = \"deepseek-chat\"\n",
    "\n",
    "response = deepseek.chat.completions.create(model=model_name, messages=messages)\n",
    "answer = response.choices[0].message.content\n",
    "\n",
    "display(Markdown(answer))\n",
    "competitors.append(model_name)\n",
    "answers.append(answer)"
   ]
  },
  {
   "cell_type": "code",
   "execution_count": null,
   "metadata": {},
   "outputs": [],
   "source": [
    "groq = OpenAI(api_key=groq_api_key, base_url=\"https://api.groq.com/openai/v1\")\n",
    "model_name = \"llama-3.3-70b-versatile\"\n",
    "\n",
    "response = groq.chat.completions.create(model=model_name, messages=messages)\n",
    "answer = response.choices[0].message.content\n",
    "\n",
    "display(Markdown(answer))\n",
    "competitors.append(model_name)\n",
    "answers.append(answer)\n"
   ]
  },
  {
   "cell_type": "markdown",
   "metadata": {},
   "source": [
    "## For the next cell, we will use Ollama\n",
    "\n",
    "Ollama runs a local web service that gives an OpenAI compatible endpoint,  \n",
    "and runs models locally using high performance C++ code.\n",
    "\n",
    "If you don't have Ollama, install it here by visiting https://ollama.com then pressing Download and following the instructions.\n",
    "\n",
    "After it's installed, you should be able to visit here: http://localhost:11434 and see the message \"Ollama is running\"\n",
    "\n",
    "You might need to restart Cursor (and maybe reboot). Then open a Terminal (control+\\`) and run `ollama serve`\n",
    "\n",
    "Useful Ollama commands (run these in the terminal, or with an exclamation mark in this notebook):\n",
    "\n",
    "`ollama pull <model_name>` downloads a model locally  \n",
    "`ollama ls` lists all the models you've downloaded  \n",
    "`ollama rm <model_name>` deletes the specified model from your downloads"
   ]
  },
  {
   "cell_type": "markdown",
   "metadata": {},
   "source": [
    "<table style=\"margin: 0; text-align: left; width:100%\">\n",
    "    <tr>\n",
    "        <td style=\"width: 150px; height: 150px; vertical-align: middle;\">\n",
    "            <img src=\"../assets/stop.png\" width=\"150\" height=\"150\" style=\"display: block;\" />\n",
    "        </td>\n",
    "        <td>\n",
    "            <h2 style=\"color:#ff7800;\">Super important - ignore me at your peril!</h2>\n",
    "            <span style=\"color:#ff7800;\">The model called <b>llama3.3</b> is FAR too large for home computers - it's not intended for personal computing and will consume all your resources! Stick with the nicely sized <b>llama3.2</b> or <b>llama3.2:1b</b> and if you want larger, try llama3.1 or smaller variants of Qwen, Gemma, Phi or DeepSeek. See the <A href=\"https://ollama.com/models\">the Ollama models page</a> for a full list of models and sizes.\n",
    "            </span>\n",
    "        </td>\n",
    "    </tr>\n",
    "</table>"
   ]
  },
  {
   "cell_type": "code",
   "execution_count": 9,
   "metadata": {},
   "outputs": [
    {
     "name": "stderr",
     "output_type": "stream",
     "text": [
      "\u001b[?2026h\u001b[?25l\u001b[1Gpulling manifest ⠋ \u001b[K\u001b[?25h\u001b[?2026l\u001b[?2026h\u001b[?25l\u001b[1Gpulling manifest ⠙ \u001b[K\u001b[?25h\u001b[?2026l\u001b[?2026h\u001b[?25l\u001b[1Gpulling manifest ⠹ \u001b[K\u001b[?25h\u001b[?2026l\u001b[?2026h\u001b[?25l\u001b[1Gpulling manifest ⠸ \u001b[K\u001b[?25h\u001b[?2026l\u001b[?2026h\u001b[?25l\u001b[1Gpulling manifest ⠼ \u001b[K\u001b[?25h\u001b[?2026l\u001b[?2026h\u001b[?25l\u001b[1Gpulling manifest ⠴ \u001b[K\u001b[?25h\u001b[?2026l\u001b[?2026h\u001b[?25l\u001b[1Gpulling manifest ⠦ \u001b[K\u001b[?25h\u001b[?2026l\u001b[?2026h\u001b[?25l\u001b[1Gpulling manifest ⠧ \u001b[K\u001b[?25h\u001b[?2026l\u001b[?2026h\u001b[?25l\u001b[1Gpulling manifest ⠇ \u001b[K\u001b[?25h\u001b[?2026l\u001b[?2026h\u001b[?25l\u001b[1Gpulling manifest ⠏ \u001b[K\u001b[?25h\u001b[?2026l\u001b[?2026h\u001b[?25l\u001b[1Gpulling manifest ⠋ \u001b[K\u001b[?25h\u001b[?2026l\u001b[?2026h\u001b[?25l\u001b[1Gpulling manifest ⠙ \u001b[K\u001b[?25h\u001b[?2026l\u001b[?2026h\u001b[?25l\u001b[1Gpulling manifest \u001b[K\n",
      "pulling dde5aa3fc5ff: 100% ▕██████████████████▏ 2.0 GB                         \u001b[K\n",
      "pulling 966de95ca8a6: 100% ▕██████████████████▏ 1.4 KB                         \u001b[K\n",
      "pulling fcc5a6bec9da: 100% ▕██████████████████▏ 7.7 KB                         \u001b[K\n",
      "pulling a70ff7e570d9: 100% ▕██████████████████▏ 6.0 KB                         \u001b[K\n",
      "pulling 56bb8bd477a5: 100% ▕██████████████████▏   96 B                         \u001b[K\n",
      "pulling 34bb5ab01051: 100% ▕██████████████████▏  561 B                         \u001b[K\n",
      "verifying sha256 digest \u001b[K\n",
      "writing manifest \u001b[K\n",
      "success \u001b[K\u001b[?25h\u001b[?2026l\n"
     ]
    }
   ],
   "source": [
    "!ollama pull llama3.2"
   ]
  },
  {
   "cell_type": "code",
   "execution_count": 10,
   "metadata": {},
   "outputs": [
    {
     "data": {
      "text/markdown": [
       "Redesigning the framework of human morality from scratch requires a thoughtful and multifaceted approach. Here are some foundational principles I would prioritize, along with strategies for addressing conflicts resulting from diverse cultures and beliefs:\n",
       "\n",
       "**Foundational Principles:**\n",
       "\n",
       "1. **Humanity**: Recognize the inherent value and dignity of every individual, regardless of their background, culture, or belief system.\n",
       "2. **Interconnectedness**: Acknowledge that all individuals are interconnected and influenced by each other's actions, emotions, and experiences.\n",
       "3. **Empathy**: Foster understanding, compassion, and tolerance for differences, promoting peaceful coexistence and conflict resolution through empathy-driven dialogue.\n",
       "4. **Justice**: Pursue fairness, equality, and protection of human rights, ensuring equal access to resources, opportunities, and well-being.\n",
       "5. **Responsibility**: Encourage individuals to take ownership of their actions, acknowledge accountability, and make amends for harm caused.\n",
       "\n",
       "**Conflict Resolution Strategies:**\n",
       "\n",
       "1. **Inclusive Dialogue**: Establish respectful, open-minded spaces where diverse perspectives can be shared, listened to, and integrated into the discussion.\n",
       "2. **Cultural Adaptation**: Recognize that moral principles may vary across cultures and adapt the framework accordingly, taking into account local customs, traditions, and values.\n",
       "3. **Global Perspective**: Integrate a broader understanding of our global interdependencies, encouraging consideration of impact on local communities and ecosystems.\n",
       "4. **Pragmatic Decision-Making**: Develop decision-making frameworks that balance competing interests and priorities by evaluating long-term consequences, fairness, and effectiveness.\n",
       "5. **Social Learning**: Encourage the exchange of knowledge, ideas, and practices between cultures and societies to foster mutual understanding and respect.\n",
       "\n",
       "**Addressing Different Beliefs:**\n",
       "\n",
       "1. **Acknowledge Diversity**: Acknowledge the validity of diverse beliefs and worldviews, recognizing that moral systems can coexist in a morally pluralistic society.\n",
       "2. **Respectful Inquiry**: Encourage respectful inquiry into the assumptions and values underlying different belief systems to strengthen understanding and foster common ground.\n",
       "3. **Co-Creation**: Collaborate with individuals from diverse backgrounds to develop frameworks and principles that integrate their perspectives, experiences, and wisdom.\n",
       "4. **Global Conclave**: Establish a global conclave where representatives of diverse cultures and belief systems can come together to discuss and agree on shared moral goals and principles.\n",
       "\n",
       "**Additional Considerations:**\n",
       "\n",
       "1. **Sustainability Goals**: Prioritize long-term sustainability and environmental well-being in decision-making processes, integrating ecological concerns into economic and social development.\n",
       "2. **Cultural Context-Sensitivity**: Recognize that cultural context shapes our understanding of rights, freedoms, and responsibilities, taking into account different historical, social, and linguistic contexts.\n",
       "3. **Critical Thinking**: Encourage critical thinking, scientific inquiry, and evidence-based decision-making to inform the development and adaptation of moral systems.\n",
       "\n",
       "By incorporating these foundational principles, strategies for conflict resolution, and considerations for addressing diverse beliefs, a revamped framework of human morality could:\n",
       "\n",
       "* Celebrate the richness diversity of human experience, culture, and belief\n",
       "* Encourage cooperation, empathy, and mutual respect among individuals from different backgrounds"
      ],
      "text/plain": [
       "<IPython.core.display.Markdown object>"
      ]
     },
     "metadata": {},
     "output_type": "display_data"
    }
   ],
   "source": [
    "ollama = OpenAI(base_url='http://localhost:11434/v1', api_key='ollama')\n",
    "model_name = \"llama3.2\"\n",
    "\n",
    "response = ollama.chat.completions.create(model=model_name, messages=messages)\n",
    "answer = response.choices[0].message.content\n",
    "\n",
    "display(Markdown(answer))\n",
    "competitors.append(model_name)\n",
    "answers.append(answer)"
   ]
  },
  {
   "cell_type": "code",
   "execution_count": 11,
   "metadata": {},
   "outputs": [
    {
     "name": "stdout",
     "output_type": "stream",
     "text": [
      "['gpt-4o-mini', 'llama3.2']\n",
      "['Redesigning the framework of human morality is a complex and multifaceted task. Here are some foundational principles that I would prioritize, along with strategies to address potential conflicts arising from varied cultures and belief systems:\\n\\n### Foundational Principles\\n\\n1. **Empathy and Compassion**: Morality should center around understanding and caring for the experiences of others. Empathy fosters connection and encourages individuals to act in ways that promote collective well-being.\\n\\n2. **Respect for Autonomy**: Acknowledging the right of individuals to make their own choices is crucial. This principle emphasizes the importance of personal freedom and the responsibility that comes with it, promoting self-determination and respect for individual agency.\\n\\n3. **Justice and Fairness**: Ensuring that all individuals have equal access to opportunities and resources is vital. A just system seeks to eliminate inequality and discrimination while prioritizing fairness in treatment and access to support.\\n\\n4. **Sustainability**: Morality must account for the impact of actions on future generations. A commitment to environmental stewardship and sustainable practices helps ensure that we do not compromise the ability of future generations to meet their needs.\\n\\n5. **Interconnectedness**: Recognizing the interconnected nature of humanity and the planet can foster a sense of global responsibility. Actions should be evaluated based on their impact on the broader community and the environment.\\n\\n6. **Transparency and Accountability**: Ethical decision-making processes should be open and accountable. This principle fosters trust and allows individuals to challenge unjust practices within their societies.\\n\\n### Addressing Cultural Conflicts\\n\\n1. **Dialogue and Understanding**: Encouraging open dialogue between cultural and belief systems promotes mutual understanding. Platforms for communication can help individuals articulate their values and address conflicts constructively.\\n\\n2. **Universal Standards with Local Flexibility**: While certain principles (such as empathy or justice) may be universal, their applications can vary based on cultural contexts. Establishing a set of core universal values allows for adaptations in enforcement and interpretation within different cultural contexts.\\n\\n3. **Consensus-Building Approaches**: Utilizing participatory methods to develop moral frameworks can engage diverse voices, fostering consensus and cooperation. Inclusive processes cultivate a sense of ownership and investment in moral norms.\\n\\n4. **Education and Awareness**: Promoting moral education that emphasizes critical thinking, empathy, and cultural awareness can help bridge divides. Encouraging individuals to learn about different cultures and moral beliefs can foster respect and reduce prejudice.\\n\\n5. **Conflict Resolution Mechanisms**: Establishing frameworks for resolving moral disputes, grounded in dialogue and mutual respect, offers pathways for addressing conflicts without resorting to dominance or exclusion.\\n\\n### Conclusion\\n\\nUltimately, a redesigned framework of human morality should be dynamic and adaptable, capable of evolving with human society while acknowledging the diverse tapestry of cultural beliefs and practices. Prioritizing dialogue, mutual respect, and a commitment to shared human values can help navigate the challenges that arise from our differences, fostering a more harmonious coexistence.', \"Redesigning the framework of human morality from scratch requires a thoughtful and multifaceted approach. Here are some foundational principles I would prioritize, along with strategies for addressing conflicts resulting from diverse cultures and beliefs:\\n\\n**Foundational Principles:**\\n\\n1. **Humanity**: Recognize the inherent value and dignity of every individual, regardless of their background, culture, or belief system.\\n2. **Interconnectedness**: Acknowledge that all individuals are interconnected and influenced by each other's actions, emotions, and experiences.\\n3. **Empathy**: Foster understanding, compassion, and tolerance for differences, promoting peaceful coexistence and conflict resolution through empathy-driven dialogue.\\n4. **Justice**: Pursue fairness, equality, and protection of human rights, ensuring equal access to resources, opportunities, and well-being.\\n5. **Responsibility**: Encourage individuals to take ownership of their actions, acknowledge accountability, and make amends for harm caused.\\n\\n**Conflict Resolution Strategies:**\\n\\n1. **Inclusive Dialogue**: Establish respectful, open-minded spaces where diverse perspectives can be shared, listened to, and integrated into the discussion.\\n2. **Cultural Adaptation**: Recognize that moral principles may vary across cultures and adapt the framework accordingly, taking into account local customs, traditions, and values.\\n3. **Global Perspective**: Integrate a broader understanding of our global interdependencies, encouraging consideration of impact on local communities and ecosystems.\\n4. **Pragmatic Decision-Making**: Develop decision-making frameworks that balance competing interests and priorities by evaluating long-term consequences, fairness, and effectiveness.\\n5. **Social Learning**: Encourage the exchange of knowledge, ideas, and practices between cultures and societies to foster mutual understanding and respect.\\n\\n**Addressing Different Beliefs:**\\n\\n1. **Acknowledge Diversity**: Acknowledge the validity of diverse beliefs and worldviews, recognizing that moral systems can coexist in a morally pluralistic society.\\n2. **Respectful Inquiry**: Encourage respectful inquiry into the assumptions and values underlying different belief systems to strengthen understanding and foster common ground.\\n3. **Co-Creation**: Collaborate with individuals from diverse backgrounds to develop frameworks and principles that integrate their perspectives, experiences, and wisdom.\\n4. **Global Conclave**: Establish a global conclave where representatives of diverse cultures and belief systems can come together to discuss and agree on shared moral goals and principles.\\n\\n**Additional Considerations:**\\n\\n1. **Sustainability Goals**: Prioritize long-term sustainability and environmental well-being in decision-making processes, integrating ecological concerns into economic and social development.\\n2. **Cultural Context-Sensitivity**: Recognize that cultural context shapes our understanding of rights, freedoms, and responsibilities, taking into account different historical, social, and linguistic contexts.\\n3. **Critical Thinking**: Encourage critical thinking, scientific inquiry, and evidence-based decision-making to inform the development and adaptation of moral systems.\\n\\nBy incorporating these foundational principles, strategies for conflict resolution, and considerations for addressing diverse beliefs, a revamped framework of human morality could:\\n\\n* Celebrate the richness diversity of human experience, culture, and belief\\n* Encourage cooperation, empathy, and mutual respect among individuals from different backgrounds\"]\n"
     ]
    }
   ],
   "source": [
    "# So where are we?\n",
    "\n",
    "print(competitors)\n",
    "print(answers)\n"
   ]
  },
  {
   "cell_type": "code",
   "execution_count": 12,
   "metadata": {},
   "outputs": [
    {
     "name": "stdout",
     "output_type": "stream",
     "text": [
      "Competitor: gpt-4o-mini\n",
      "\n",
      "Redesigning the framework of human morality is a complex and multifaceted task. Here are some foundational principles that I would prioritize, along with strategies to address potential conflicts arising from varied cultures and belief systems:\n",
      "\n",
      "### Foundational Principles\n",
      "\n",
      "1. **Empathy and Compassion**: Morality should center around understanding and caring for the experiences of others. Empathy fosters connection and encourages individuals to act in ways that promote collective well-being.\n",
      "\n",
      "2. **Respect for Autonomy**: Acknowledging the right of individuals to make their own choices is crucial. This principle emphasizes the importance of personal freedom and the responsibility that comes with it, promoting self-determination and respect for individual agency.\n",
      "\n",
      "3. **Justice and Fairness**: Ensuring that all individuals have equal access to opportunities and resources is vital. A just system seeks to eliminate inequality and discrimination while prioritizing fairness in treatment and access to support.\n",
      "\n",
      "4. **Sustainability**: Morality must account for the impact of actions on future generations. A commitment to environmental stewardship and sustainable practices helps ensure that we do not compromise the ability of future generations to meet their needs.\n",
      "\n",
      "5. **Interconnectedness**: Recognizing the interconnected nature of humanity and the planet can foster a sense of global responsibility. Actions should be evaluated based on their impact on the broader community and the environment.\n",
      "\n",
      "6. **Transparency and Accountability**: Ethical decision-making processes should be open and accountable. This principle fosters trust and allows individuals to challenge unjust practices within their societies.\n",
      "\n",
      "### Addressing Cultural Conflicts\n",
      "\n",
      "1. **Dialogue and Understanding**: Encouraging open dialogue between cultural and belief systems promotes mutual understanding. Platforms for communication can help individuals articulate their values and address conflicts constructively.\n",
      "\n",
      "2. **Universal Standards with Local Flexibility**: While certain principles (such as empathy or justice) may be universal, their applications can vary based on cultural contexts. Establishing a set of core universal values allows for adaptations in enforcement and interpretation within different cultural contexts.\n",
      "\n",
      "3. **Consensus-Building Approaches**: Utilizing participatory methods to develop moral frameworks can engage diverse voices, fostering consensus and cooperation. Inclusive processes cultivate a sense of ownership and investment in moral norms.\n",
      "\n",
      "4. **Education and Awareness**: Promoting moral education that emphasizes critical thinking, empathy, and cultural awareness can help bridge divides. Encouraging individuals to learn about different cultures and moral beliefs can foster respect and reduce prejudice.\n",
      "\n",
      "5. **Conflict Resolution Mechanisms**: Establishing frameworks for resolving moral disputes, grounded in dialogue and mutual respect, offers pathways for addressing conflicts without resorting to dominance or exclusion.\n",
      "\n",
      "### Conclusion\n",
      "\n",
      "Ultimately, a redesigned framework of human morality should be dynamic and adaptable, capable of evolving with human society while acknowledging the diverse tapestry of cultural beliefs and practices. Prioritizing dialogue, mutual respect, and a commitment to shared human values can help navigate the challenges that arise from our differences, fostering a more harmonious coexistence.\n",
      "Competitor: llama3.2\n",
      "\n",
      "Redesigning the framework of human morality from scratch requires a thoughtful and multifaceted approach. Here are some foundational principles I would prioritize, along with strategies for addressing conflicts resulting from diverse cultures and beliefs:\n",
      "\n",
      "**Foundational Principles:**\n",
      "\n",
      "1. **Humanity**: Recognize the inherent value and dignity of every individual, regardless of their background, culture, or belief system.\n",
      "2. **Interconnectedness**: Acknowledge that all individuals are interconnected and influenced by each other's actions, emotions, and experiences.\n",
      "3. **Empathy**: Foster understanding, compassion, and tolerance for differences, promoting peaceful coexistence and conflict resolution through empathy-driven dialogue.\n",
      "4. **Justice**: Pursue fairness, equality, and protection of human rights, ensuring equal access to resources, opportunities, and well-being.\n",
      "5. **Responsibility**: Encourage individuals to take ownership of their actions, acknowledge accountability, and make amends for harm caused.\n",
      "\n",
      "**Conflict Resolution Strategies:**\n",
      "\n",
      "1. **Inclusive Dialogue**: Establish respectful, open-minded spaces where diverse perspectives can be shared, listened to, and integrated into the discussion.\n",
      "2. **Cultural Adaptation**: Recognize that moral principles may vary across cultures and adapt the framework accordingly, taking into account local customs, traditions, and values.\n",
      "3. **Global Perspective**: Integrate a broader understanding of our global interdependencies, encouraging consideration of impact on local communities and ecosystems.\n",
      "4. **Pragmatic Decision-Making**: Develop decision-making frameworks that balance competing interests and priorities by evaluating long-term consequences, fairness, and effectiveness.\n",
      "5. **Social Learning**: Encourage the exchange of knowledge, ideas, and practices between cultures and societies to foster mutual understanding and respect.\n",
      "\n",
      "**Addressing Different Beliefs:**\n",
      "\n",
      "1. **Acknowledge Diversity**: Acknowledge the validity of diverse beliefs and worldviews, recognizing that moral systems can coexist in a morally pluralistic society.\n",
      "2. **Respectful Inquiry**: Encourage respectful inquiry into the assumptions and values underlying different belief systems to strengthen understanding and foster common ground.\n",
      "3. **Co-Creation**: Collaborate with individuals from diverse backgrounds to develop frameworks and principles that integrate their perspectives, experiences, and wisdom.\n",
      "4. **Global Conclave**: Establish a global conclave where representatives of diverse cultures and belief systems can come together to discuss and agree on shared moral goals and principles.\n",
      "\n",
      "**Additional Considerations:**\n",
      "\n",
      "1. **Sustainability Goals**: Prioritize long-term sustainability and environmental well-being in decision-making processes, integrating ecological concerns into economic and social development.\n",
      "2. **Cultural Context-Sensitivity**: Recognize that cultural context shapes our understanding of rights, freedoms, and responsibilities, taking into account different historical, social, and linguistic contexts.\n",
      "3. **Critical Thinking**: Encourage critical thinking, scientific inquiry, and evidence-based decision-making to inform the development and adaptation of moral systems.\n",
      "\n",
      "By incorporating these foundational principles, strategies for conflict resolution, and considerations for addressing diverse beliefs, a revamped framework of human morality could:\n",
      "\n",
      "* Celebrate the richness diversity of human experience, culture, and belief\n",
      "* Encourage cooperation, empathy, and mutual respect among individuals from different backgrounds\n"
     ]
    }
   ],
   "source": [
    "# It's nice to know how to use \"zip\"\n",
    "for competitor, answer in zip(competitors, answers):\n",
    "    print(f\"Competitor: {competitor}\\n\\n{answer}\")\n"
   ]
  },
  {
   "cell_type": "code",
   "execution_count": 13,
   "metadata": {},
   "outputs": [],
   "source": [
    "# Let's bring this together - note the use of \"enumerate\"\n",
    "\n",
    "together = \"\"\n",
    "for index, answer in enumerate(answers):\n",
    "    together += f\"# Response from competitor {index+1}\\n\\n\"\n",
    "    together += answer + \"\\n\\n\""
   ]
  },
  {
   "cell_type": "code",
   "execution_count": 14,
   "metadata": {},
   "outputs": [
    {
     "name": "stdout",
     "output_type": "stream",
     "text": [
      "# Response from competitor 1\n",
      "\n",
      "Redesigning the framework of human morality is a complex and multifaceted task. Here are some foundational principles that I would prioritize, along with strategies to address potential conflicts arising from varied cultures and belief systems:\n",
      "\n",
      "### Foundational Principles\n",
      "\n",
      "1. **Empathy and Compassion**: Morality should center around understanding and caring for the experiences of others. Empathy fosters connection and encourages individuals to act in ways that promote collective well-being.\n",
      "\n",
      "2. **Respect for Autonomy**: Acknowledging the right of individuals to make their own choices is crucial. This principle emphasizes the importance of personal freedom and the responsibility that comes with it, promoting self-determination and respect for individual agency.\n",
      "\n",
      "3. **Justice and Fairness**: Ensuring that all individuals have equal access to opportunities and resources is vital. A just system seeks to eliminate inequality and discrimination while prioritizing fairness in treatment and access to support.\n",
      "\n",
      "4. **Sustainability**: Morality must account for the impact of actions on future generations. A commitment to environmental stewardship and sustainable practices helps ensure that we do not compromise the ability of future generations to meet their needs.\n",
      "\n",
      "5. **Interconnectedness**: Recognizing the interconnected nature of humanity and the planet can foster a sense of global responsibility. Actions should be evaluated based on their impact on the broader community and the environment.\n",
      "\n",
      "6. **Transparency and Accountability**: Ethical decision-making processes should be open and accountable. This principle fosters trust and allows individuals to challenge unjust practices within their societies.\n",
      "\n",
      "### Addressing Cultural Conflicts\n",
      "\n",
      "1. **Dialogue and Understanding**: Encouraging open dialogue between cultural and belief systems promotes mutual understanding. Platforms for communication can help individuals articulate their values and address conflicts constructively.\n",
      "\n",
      "2. **Universal Standards with Local Flexibility**: While certain principles (such as empathy or justice) may be universal, their applications can vary based on cultural contexts. Establishing a set of core universal values allows for adaptations in enforcement and interpretation within different cultural contexts.\n",
      "\n",
      "3. **Consensus-Building Approaches**: Utilizing participatory methods to develop moral frameworks can engage diverse voices, fostering consensus and cooperation. Inclusive processes cultivate a sense of ownership and investment in moral norms.\n",
      "\n",
      "4. **Education and Awareness**: Promoting moral education that emphasizes critical thinking, empathy, and cultural awareness can help bridge divides. Encouraging individuals to learn about different cultures and moral beliefs can foster respect and reduce prejudice.\n",
      "\n",
      "5. **Conflict Resolution Mechanisms**: Establishing frameworks for resolving moral disputes, grounded in dialogue and mutual respect, offers pathways for addressing conflicts without resorting to dominance or exclusion.\n",
      "\n",
      "### Conclusion\n",
      "\n",
      "Ultimately, a redesigned framework of human morality should be dynamic and adaptable, capable of evolving with human society while acknowledging the diverse tapestry of cultural beliefs and practices. Prioritizing dialogue, mutual respect, and a commitment to shared human values can help navigate the challenges that arise from our differences, fostering a more harmonious coexistence.\n",
      "\n",
      "# Response from competitor 2\n",
      "\n",
      "Redesigning the framework of human morality from scratch requires a thoughtful and multifaceted approach. Here are some foundational principles I would prioritize, along with strategies for addressing conflicts resulting from diverse cultures and beliefs:\n",
      "\n",
      "**Foundational Principles:**\n",
      "\n",
      "1. **Humanity**: Recognize the inherent value and dignity of every individual, regardless of their background, culture, or belief system.\n",
      "2. **Interconnectedness**: Acknowledge that all individuals are interconnected and influenced by each other's actions, emotions, and experiences.\n",
      "3. **Empathy**: Foster understanding, compassion, and tolerance for differences, promoting peaceful coexistence and conflict resolution through empathy-driven dialogue.\n",
      "4. **Justice**: Pursue fairness, equality, and protection of human rights, ensuring equal access to resources, opportunities, and well-being.\n",
      "5. **Responsibility**: Encourage individuals to take ownership of their actions, acknowledge accountability, and make amends for harm caused.\n",
      "\n",
      "**Conflict Resolution Strategies:**\n",
      "\n",
      "1. **Inclusive Dialogue**: Establish respectful, open-minded spaces where diverse perspectives can be shared, listened to, and integrated into the discussion.\n",
      "2. **Cultural Adaptation**: Recognize that moral principles may vary across cultures and adapt the framework accordingly, taking into account local customs, traditions, and values.\n",
      "3. **Global Perspective**: Integrate a broader understanding of our global interdependencies, encouraging consideration of impact on local communities and ecosystems.\n",
      "4. **Pragmatic Decision-Making**: Develop decision-making frameworks that balance competing interests and priorities by evaluating long-term consequences, fairness, and effectiveness.\n",
      "5. **Social Learning**: Encourage the exchange of knowledge, ideas, and practices between cultures and societies to foster mutual understanding and respect.\n",
      "\n",
      "**Addressing Different Beliefs:**\n",
      "\n",
      "1. **Acknowledge Diversity**: Acknowledge the validity of diverse beliefs and worldviews, recognizing that moral systems can coexist in a morally pluralistic society.\n",
      "2. **Respectful Inquiry**: Encourage respectful inquiry into the assumptions and values underlying different belief systems to strengthen understanding and foster common ground.\n",
      "3. **Co-Creation**: Collaborate with individuals from diverse backgrounds to develop frameworks and principles that integrate their perspectives, experiences, and wisdom.\n",
      "4. **Global Conclave**: Establish a global conclave where representatives of diverse cultures and belief systems can come together to discuss and agree on shared moral goals and principles.\n",
      "\n",
      "**Additional Considerations:**\n",
      "\n",
      "1. **Sustainability Goals**: Prioritize long-term sustainability and environmental well-being in decision-making processes, integrating ecological concerns into economic and social development.\n",
      "2. **Cultural Context-Sensitivity**: Recognize that cultural context shapes our understanding of rights, freedoms, and responsibilities, taking into account different historical, social, and linguistic contexts.\n",
      "3. **Critical Thinking**: Encourage critical thinking, scientific inquiry, and evidence-based decision-making to inform the development and adaptation of moral systems.\n",
      "\n",
      "By incorporating these foundational principles, strategies for conflict resolution, and considerations for addressing diverse beliefs, a revamped framework of human morality could:\n",
      "\n",
      "* Celebrate the richness diversity of human experience, culture, and belief\n",
      "* Encourage cooperation, empathy, and mutual respect among individuals from different backgrounds\n",
      "\n",
      "\n"
     ]
    }
   ],
   "source": [
    "print(together)"
   ]
  },
  {
   "cell_type": "code",
   "execution_count": 15,
   "metadata": {},
   "outputs": [],
   "source": [
    "judge = f\"\"\"You are judging a competition between {len(competitors)} competitors.\n",
    "Each model has been given this question:\n",
    "\n",
    "{question}\n",
    "\n",
    "Your job is to evaluate each response for clarity and strength of argument, and rank them in order of best to worst.\n",
    "Respond with JSON, and only JSON, with the following format:\n",
    "{{\"results\": [\"best competitor number\", \"second best competitor number\", \"third best competitor number\", ...]}}\n",
    "\n",
    "Here are the responses from each competitor:\n",
    "\n",
    "{together}\n",
    "\n",
    "Now respond with the JSON with the ranked order of the competitors, nothing else. Do not include markdown formatting or code blocks.\"\"\"\n"
   ]
  },
  {
   "cell_type": "code",
   "execution_count": 16,
   "metadata": {},
   "outputs": [
    {
     "name": "stdout",
     "output_type": "stream",
     "text": [
      "You are judging a competition between 2 competitors.\n",
      "Each model has been given this question:\n",
      "\n",
      "If you could redesign the framework of human morality from scratch, what foundational principles would you prioritize, and how would you address the potential conflicts that arise from different cultures and belief systems?\n",
      "\n",
      "Your job is to evaluate each response for clarity and strength of argument, and rank them in order of best to worst.\n",
      "Respond with JSON, and only JSON, with the following format:\n",
      "{\"results\": [\"best competitor number\", \"second best competitor number\", \"third best competitor number\", ...]}\n",
      "\n",
      "Here are the responses from each competitor:\n",
      "\n",
      "# Response from competitor 1\n",
      "\n",
      "Redesigning the framework of human morality is a complex and multifaceted task. Here are some foundational principles that I would prioritize, along with strategies to address potential conflicts arising from varied cultures and belief systems:\n",
      "\n",
      "### Foundational Principles\n",
      "\n",
      "1. **Empathy and Compassion**: Morality should center around understanding and caring for the experiences of others. Empathy fosters connection and encourages individuals to act in ways that promote collective well-being.\n",
      "\n",
      "2. **Respect for Autonomy**: Acknowledging the right of individuals to make their own choices is crucial. This principle emphasizes the importance of personal freedom and the responsibility that comes with it, promoting self-determination and respect for individual agency.\n",
      "\n",
      "3. **Justice and Fairness**: Ensuring that all individuals have equal access to opportunities and resources is vital. A just system seeks to eliminate inequality and discrimination while prioritizing fairness in treatment and access to support.\n",
      "\n",
      "4. **Sustainability**: Morality must account for the impact of actions on future generations. A commitment to environmental stewardship and sustainable practices helps ensure that we do not compromise the ability of future generations to meet their needs.\n",
      "\n",
      "5. **Interconnectedness**: Recognizing the interconnected nature of humanity and the planet can foster a sense of global responsibility. Actions should be evaluated based on their impact on the broader community and the environment.\n",
      "\n",
      "6. **Transparency and Accountability**: Ethical decision-making processes should be open and accountable. This principle fosters trust and allows individuals to challenge unjust practices within their societies.\n",
      "\n",
      "### Addressing Cultural Conflicts\n",
      "\n",
      "1. **Dialogue and Understanding**: Encouraging open dialogue between cultural and belief systems promotes mutual understanding. Platforms for communication can help individuals articulate their values and address conflicts constructively.\n",
      "\n",
      "2. **Universal Standards with Local Flexibility**: While certain principles (such as empathy or justice) may be universal, their applications can vary based on cultural contexts. Establishing a set of core universal values allows for adaptations in enforcement and interpretation within different cultural contexts.\n",
      "\n",
      "3. **Consensus-Building Approaches**: Utilizing participatory methods to develop moral frameworks can engage diverse voices, fostering consensus and cooperation. Inclusive processes cultivate a sense of ownership and investment in moral norms.\n",
      "\n",
      "4. **Education and Awareness**: Promoting moral education that emphasizes critical thinking, empathy, and cultural awareness can help bridge divides. Encouraging individuals to learn about different cultures and moral beliefs can foster respect and reduce prejudice.\n",
      "\n",
      "5. **Conflict Resolution Mechanisms**: Establishing frameworks for resolving moral disputes, grounded in dialogue and mutual respect, offers pathways for addressing conflicts without resorting to dominance or exclusion.\n",
      "\n",
      "### Conclusion\n",
      "\n",
      "Ultimately, a redesigned framework of human morality should be dynamic and adaptable, capable of evolving with human society while acknowledging the diverse tapestry of cultural beliefs and practices. Prioritizing dialogue, mutual respect, and a commitment to shared human values can help navigate the challenges that arise from our differences, fostering a more harmonious coexistence.\n",
      "\n",
      "# Response from competitor 2\n",
      "\n",
      "Redesigning the framework of human morality from scratch requires a thoughtful and multifaceted approach. Here are some foundational principles I would prioritize, along with strategies for addressing conflicts resulting from diverse cultures and beliefs:\n",
      "\n",
      "**Foundational Principles:**\n",
      "\n",
      "1. **Humanity**: Recognize the inherent value and dignity of every individual, regardless of their background, culture, or belief system.\n",
      "2. **Interconnectedness**: Acknowledge that all individuals are interconnected and influenced by each other's actions, emotions, and experiences.\n",
      "3. **Empathy**: Foster understanding, compassion, and tolerance for differences, promoting peaceful coexistence and conflict resolution through empathy-driven dialogue.\n",
      "4. **Justice**: Pursue fairness, equality, and protection of human rights, ensuring equal access to resources, opportunities, and well-being.\n",
      "5. **Responsibility**: Encourage individuals to take ownership of their actions, acknowledge accountability, and make amends for harm caused.\n",
      "\n",
      "**Conflict Resolution Strategies:**\n",
      "\n",
      "1. **Inclusive Dialogue**: Establish respectful, open-minded spaces where diverse perspectives can be shared, listened to, and integrated into the discussion.\n",
      "2. **Cultural Adaptation**: Recognize that moral principles may vary across cultures and adapt the framework accordingly, taking into account local customs, traditions, and values.\n",
      "3. **Global Perspective**: Integrate a broader understanding of our global interdependencies, encouraging consideration of impact on local communities and ecosystems.\n",
      "4. **Pragmatic Decision-Making**: Develop decision-making frameworks that balance competing interests and priorities by evaluating long-term consequences, fairness, and effectiveness.\n",
      "5. **Social Learning**: Encourage the exchange of knowledge, ideas, and practices between cultures and societies to foster mutual understanding and respect.\n",
      "\n",
      "**Addressing Different Beliefs:**\n",
      "\n",
      "1. **Acknowledge Diversity**: Acknowledge the validity of diverse beliefs and worldviews, recognizing that moral systems can coexist in a morally pluralistic society.\n",
      "2. **Respectful Inquiry**: Encourage respectful inquiry into the assumptions and values underlying different belief systems to strengthen understanding and foster common ground.\n",
      "3. **Co-Creation**: Collaborate with individuals from diverse backgrounds to develop frameworks and principles that integrate their perspectives, experiences, and wisdom.\n",
      "4. **Global Conclave**: Establish a global conclave where representatives of diverse cultures and belief systems can come together to discuss and agree on shared moral goals and principles.\n",
      "\n",
      "**Additional Considerations:**\n",
      "\n",
      "1. **Sustainability Goals**: Prioritize long-term sustainability and environmental well-being in decision-making processes, integrating ecological concerns into economic and social development.\n",
      "2. **Cultural Context-Sensitivity**: Recognize that cultural context shapes our understanding of rights, freedoms, and responsibilities, taking into account different historical, social, and linguistic contexts.\n",
      "3. **Critical Thinking**: Encourage critical thinking, scientific inquiry, and evidence-based decision-making to inform the development and adaptation of moral systems.\n",
      "\n",
      "By incorporating these foundational principles, strategies for conflict resolution, and considerations for addressing diverse beliefs, a revamped framework of human morality could:\n",
      "\n",
      "* Celebrate the richness diversity of human experience, culture, and belief\n",
      "* Encourage cooperation, empathy, and mutual respect among individuals from different backgrounds\n",
      "\n",
      "\n",
      "\n",
      "Now respond with the JSON with the ranked order of the competitors, nothing else. Do not include markdown formatting or code blocks.\n"
     ]
    }
   ],
   "source": [
    "print(judge)"
   ]
  },
  {
   "cell_type": "code",
   "execution_count": 17,
   "metadata": {},
   "outputs": [],
   "source": [
    "judge_messages = [{\"role\": \"user\", \"content\": judge}]"
   ]
  },
  {
   "cell_type": "code",
   "execution_count": 18,
   "metadata": {},
   "outputs": [
    {
     "name": "stdout",
     "output_type": "stream",
     "text": [
      "{\"results\": [\"1\", \"2\"]}\n"
     ]
    }
   ],
   "source": [
    "# Judgement time!\n",
    "\n",
    "openai = OpenAI()\n",
    "response = openai.chat.completions.create(\n",
    "    model=\"o3-mini\",\n",
    "    messages=judge_messages,\n",
    ")\n",
    "results = response.choices[0].message.content\n",
    "print(results)\n"
   ]
  },
  {
   "cell_type": "code",
   "execution_count": 19,
   "metadata": {},
   "outputs": [
    {
     "name": "stdout",
     "output_type": "stream",
     "text": [
      "Rank 1: gpt-4o-mini\n",
      "Rank 2: llama3.2\n"
     ]
    }
   ],
   "source": [
    "# OK let's turn this into results!\n",
    "\n",
    "results_dict = json.loads(results)\n",
    "ranks = results_dict[\"results\"]\n",
    "for index, result in enumerate(ranks):\n",
    "    competitor = competitors[int(result)-1]\n",
    "    print(f\"Rank {index+1}: {competitor}\")"
   ]
  },
  {
   "cell_type": "markdown",
   "metadata": {},
   "source": [
    "<table style=\"margin: 0; text-align: left; width:100%\">\n",
    "    <tr>\n",
    "        <td style=\"width: 150px; height: 150px; vertical-align: middle;\">\n",
    "            <img src=\"../assets/exercise.png\" width=\"150\" height=\"150\" style=\"display: block;\" />\n",
    "        </td>\n",
    "        <td>\n",
    "            <h2 style=\"color:#ff7800;\">Exercise</h2>\n",
    "            <span style=\"color:#ff7800;\">Which pattern(s) did this use? Try updating this to add another Agentic design pattern.\n",
    "            </span>\n",
    "        </td>\n",
    "    </tr>\n",
    "</table>"
   ]
  },
  {
   "cell_type": "markdown",
   "metadata": {},
   "source": [
    "<table style=\"margin: 0; text-align: left; width:100%\">\n",
    "    <tr>\n",
    "        <td style=\"width: 150px; height: 150px; vertical-align: middle;\">\n",
    "            <img src=\"../assets/business.png\" width=\"150\" height=\"150\" style=\"display: block;\" />\n",
    "        </td>\n",
    "        <td>\n",
    "            <h2 style=\"color:#00bfff;\">Commercial implications</h2>\n",
    "            <span style=\"color:#00bfff;\">These kinds of patterns - to send a task to multiple models, and evaluate results,\n",
    "            and common where you need to improve the quality of your LLM response. This approach can be universally applied\n",
    "            to business projects where accuracy is critical.\n",
    "            </span>\n",
    "        </td>\n",
    "    </tr>\n",
    "</table>"
   ]
  },
  {
   "cell_type": "markdown",
   "metadata": {},
   "source": []
  }
 ],
 "metadata": {
  "kernelspec": {
   "display_name": ".venv",
   "language": "python",
   "name": "python3"
  },
  "language_info": {
   "codemirror_mode": {
    "name": "ipython",
    "version": 3
   },
   "file_extension": ".py",
   "mimetype": "text/x-python",
   "name": "python",
   "nbconvert_exporter": "python",
   "pygments_lexer": "ipython3",
   "version": "3.12.10"
  }
 },
 "nbformat": 4,
 "nbformat_minor": 2
}
