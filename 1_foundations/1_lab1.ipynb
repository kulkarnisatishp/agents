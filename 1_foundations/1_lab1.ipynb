{
 "cells": [
  {
   "cell_type": "markdown",
   "metadata": {},
   "source": [
    "# Welcome to the start of your adventure in Agentic AI"
   ]
  },
  {
   "cell_type": "markdown",
   "metadata": {},
   "source": [
    "<table style=\"margin: 0; text-align: left; width:100%\">\n",
    "    <tr>\n",
    "        <td style=\"width: 150px; height: 150px; vertical-align: middle;\">\n",
    "            <img src=\"../assets/stop.png\" width=\"150\" height=\"150\" style=\"display: block;\" />\n",
    "        </td>\n",
    "        <td>\n",
    "            <h2 style=\"color:#ff7800;\">Are you ready for action??</h2>\n",
    "            <span style=\"color:#ff7800;\">Have you completed all the setup steps in the <a href=\"../setup/\">setup</a> folder?<br/>\n",
    "            Have you checked out the guides in the <a href=\"../guides/\">guides</a> folder?<br/>\n",
    "            Well in that case, you're ready!!\n",
    "            </span>\n",
    "        </td>\n",
    "    </tr>\n",
    "</table>"
   ]
  },
  {
   "cell_type": "markdown",
   "metadata": {},
   "source": [
    "<table style=\"margin: 0; text-align: left; width:100%\">\n",
    "    <tr>\n",
    "        <td style=\"width: 150px; height: 150px; vertical-align: middle;\">\n",
    "            <img src=\"../assets/tools.png\" width=\"150\" height=\"150\" style=\"display: block;\" />\n",
    "        </td>\n",
    "        <td>\n",
    "            <h2 style=\"color:#00bfff;\">Treat these labs as a resource</h2>\n",
    "            <span style=\"color:#00bfff;\">I push updates to the code regularly. When people ask questions or have problems, I incorporate it in the code, adding more examples or improved commentary. As a result, you'll notice that the code below isn't identical to the videos. Everything from the videos is here; but in addition, I've added more steps and better explanations. Consider this like an interactive book that accompanies the lectures.\n",
    "            </span>\n",
    "        </td>\n",
    "    </tr>\n",
    "</table>"
   ]
  },
  {
   "cell_type": "markdown",
   "metadata": {},
   "source": [
    "### And please do remember to contact me if I can help\n",
    "\n",
    "And I love to connect: https://www.linkedin.com/in/eddonner/\n",
    "\n",
    "\n",
    "### New to Notebooks like this one? Head over to the guides folder!\n",
    "\n",
    "Otherwise:\n",
    "1. Click where it says \"Select Kernel\" near the top right, and select the option called `.venv (Python 3.12.9)` or similar, which should be the first choice or the most prominent choice.\n",
    "2. Click in each \"cell\" below, starting with the cell immediately below this text, and press Shift+Enter to run\n",
    "3. Enjoy!"
   ]
  },
  {
   "cell_type": "code",
   "execution_count": 1,
   "metadata": {},
   "outputs": [],
   "source": [
    "# First let's do an import\n",
    "from dotenv import load_dotenv\n"
   ]
  },
  {
   "cell_type": "code",
   "execution_count": 2,
   "metadata": {},
   "outputs": [
    {
     "data": {
      "text/plain": [
       "True"
      ]
     },
     "execution_count": 2,
     "metadata": {},
     "output_type": "execute_result"
    }
   ],
   "source": [
    "# Next it's time to load the API keys into environment variables\n",
    "\n",
    "load_dotenv(override=True)"
   ]
  },
  {
   "cell_type": "code",
   "execution_count": 3,
   "metadata": {},
   "outputs": [
    {
     "name": "stdout",
     "output_type": "stream",
     "text": [
      "OpenAI API Key exists and begins sk-proj-\n"
     ]
    }
   ],
   "source": [
    "# Check the keys\n",
    "\n",
    "import os\n",
    "openai_api_key = os.getenv('OPENAI_API_KEY')\n",
    "\n",
    "if openai_api_key:\n",
    "    print(f\"OpenAI API Key exists and begins {openai_api_key[:8]}\")\n",
    "else:\n",
    "    print(\"OpenAI API Key not set - please head to the troubleshooting guide in the guides folder\")\n",
    "    \n"
   ]
  },
  {
   "cell_type": "code",
   "execution_count": 4,
   "metadata": {},
   "outputs": [],
   "source": [
    "# And now - the all important import statement\n",
    "# If you get an import error - head over to troubleshooting guide\n",
    "\n",
    "from openai import OpenAI"
   ]
  },
  {
   "cell_type": "code",
   "execution_count": 5,
   "metadata": {},
   "outputs": [],
   "source": [
    "# And now we'll create an instance of the OpenAI class\n",
    "# If you're not sure what it means to create an instance of a class - head over to the guides folder!\n",
    "# If you get a NameError - head over to the guides folder to learn about NameErrors\n",
    "\n",
    "openai = OpenAI()"
   ]
  },
  {
   "cell_type": "code",
   "execution_count": 6,
   "metadata": {},
   "outputs": [],
   "source": [
    "# Create a list of messages in the familiar OpenAI format\n",
    "\n",
    "messages = [{\"role\": \"user\", \"content\": \"What is 2+2?\"}]"
   ]
  },
  {
   "cell_type": "code",
   "execution_count": 7,
   "metadata": {},
   "outputs": [
    {
     "name": "stdout",
     "output_type": "stream",
     "text": [
      "2 + 2 equals 4.\n"
     ]
    }
   ],
   "source": [
    "# And now call it! Any problems, head to the troubleshooting guide\n",
    "\n",
    "response = openai.chat.completions.create(\n",
    "    model=\"gpt-4o-mini\",\n",
    "    messages=messages\n",
    ")\n",
    "\n",
    "print(response.choices[0].message.content)\n"
   ]
  },
  {
   "cell_type": "code",
   "execution_count": null,
   "metadata": {},
   "outputs": [],
   "source": []
  },
  {
   "cell_type": "code",
   "execution_count": 8,
   "metadata": {},
   "outputs": [],
   "source": [
    "# And now - let's ask for a question:\n",
    "\n",
    "question = \"Please propose a hard, challenging question to assess someone's IQ. Respond only with the question.\"\n",
    "messages = [{\"role\": \"user\", \"content\": question}]\n"
   ]
  },
  {
   "cell_type": "code",
   "execution_count": 9,
   "metadata": {},
   "outputs": [
    {
     "name": "stdout",
     "output_type": "stream",
     "text": [
      "If you have a 3-gallon jug and a 5-gallon jug, and you need to measure out exactly 4 gallons of water, how can you do it?\n"
     ]
    }
   ],
   "source": [
    "# ask it\n",
    "response = openai.chat.completions.create(\n",
    "    model=\"gpt-4o-mini\",\n",
    "    messages=messages\n",
    ")\n",
    "\n",
    "question = response.choices[0].message.content\n",
    "\n",
    "print(question)\n"
   ]
  },
  {
   "cell_type": "code",
   "execution_count": 10,
   "metadata": {},
   "outputs": [],
   "source": [
    "# form a new messages list\n",
    "messages = [{\"role\": \"user\", \"content\": question}]\n"
   ]
  },
  {
   "cell_type": "code",
   "execution_count": 11,
   "metadata": {},
   "outputs": [
    {
     "name": "stdout",
     "output_type": "stream",
     "text": [
      "To measure out exactly 4 gallons of water using a 3-gallon jug and a 5-gallon jug, follow these steps:\n",
      "\n",
      "1. Fill the 5-gallon jug completely (5 gallons).\n",
      "2. Pour water from the 5-gallon jug into the 3-gallon jug until the 3-gallon jug is full. After this step, you will have:\n",
      "   - 2 gallons left in the 5-gallon jug (5 - 3 = 2)\n",
      "   - 3 gallons in the 3-gallon jug.\n",
      "\n",
      "3. Empty the 3-gallon jug completely.\n",
      "4. Pour the 2 gallons from the 5-gallon jug into the 3-gallon jug. Now you will have:\n",
      "   - 0 gallons in the 5-gallon jug\n",
      "   - 2 gallons in the 3-gallon jug.\n",
      "\n",
      "5. Fill the 5-gallon jug completely again (5 gallons).\n",
      "6. Pour from the 5-gallon jug into the 3-gallon jug until the 3-gallon jug is full. Since the 3-gallon jug already has 2 gallons, you can only add 1 more gallon to it (3 - 2 = 1). After this final pour:\n",
      "   - You will have 4 gallons left in the 5-gallon jug (5 - 1 = 4)\n",
      "   - 3 gallons in the 3-gallon jug (full).\n",
      "\n",
      "Now, you have exactly 4 gallons of water in the 5-gallon jug.\n"
     ]
    }
   ],
   "source": [
    "# Ask it again\n",
    "\n",
    "response = openai.chat.completions.create(\n",
    "    model=\"gpt-4o-mini\",\n",
    "    messages=messages\n",
    ")\n",
    "\n",
    "answer = response.choices[0].message.content\n",
    "print(answer)\n"
   ]
  },
  {
   "cell_type": "code",
   "execution_count": 12,
   "metadata": {},
   "outputs": [
    {
     "data": {
      "text/markdown": [
       "To measure out exactly 4 gallons of water using a 3-gallon jug and a 5-gallon jug, follow these steps:\n",
       "\n",
       "1. Fill the 5-gallon jug completely (5 gallons).\n",
       "2. Pour water from the 5-gallon jug into the 3-gallon jug until the 3-gallon jug is full. After this step, you will have:\n",
       "   - 2 gallons left in the 5-gallon jug (5 - 3 = 2)\n",
       "   - 3 gallons in the 3-gallon jug.\n",
       "\n",
       "3. Empty the 3-gallon jug completely.\n",
       "4. Pour the 2 gallons from the 5-gallon jug into the 3-gallon jug. Now you will have:\n",
       "   - 0 gallons in the 5-gallon jug\n",
       "   - 2 gallons in the 3-gallon jug.\n",
       "\n",
       "5. Fill the 5-gallon jug completely again (5 gallons).\n",
       "6. Pour from the 5-gallon jug into the 3-gallon jug until the 3-gallon jug is full. Since the 3-gallon jug already has 2 gallons, you can only add 1 more gallon to it (3 - 2 = 1). After this final pour:\n",
       "   - You will have 4 gallons left in the 5-gallon jug (5 - 1 = 4)\n",
       "   - 3 gallons in the 3-gallon jug (full).\n",
       "\n",
       "Now, you have exactly 4 gallons of water in the 5-gallon jug."
      ],
      "text/plain": [
       "<IPython.core.display.Markdown object>"
      ]
     },
     "metadata": {},
     "output_type": "display_data"
    }
   ],
   "source": [
    "from IPython.display import Markdown, display\n",
    "\n",
    "display(Markdown(answer))\n",
    "\n"
   ]
  },
  {
   "cell_type": "markdown",
   "metadata": {},
   "source": [
    "# Congratulations!\n",
    "\n",
    "That was a small, simple step in the direction of Agentic AI, with your new environment!\n",
    "\n",
    "Next time things get more interesting..."
   ]
  },
  {
   "cell_type": "markdown",
   "metadata": {},
   "source": [
    "<table style=\"margin: 0; text-align: left; width:100%\">\n",
    "    <tr>\n",
    "        <td style=\"width: 150px; height: 150px; vertical-align: middle;\">\n",
    "            <img src=\"../assets/exercise.png\" width=\"150\" height=\"150\" style=\"display: block;\" />\n",
    "        </td>\n",
    "        <td>\n",
    "            <h2 style=\"color:#ff7800;\">Exercise</h2>\n",
    "            <span style=\"color:#ff7800;\">Now try this commercial application:<br/>\n",
    "            First ask the LLM to pick a business area that might be worth exploring for an Agentic AI opportunity.<br/>\n",
    "            Then ask the LLM to present a pain-point in that industry - something challenging that might be ripe for an Agentic solution.<br/>\n",
    "            Finally have 3 third LLM call propose the Agentic AI solution.\n",
    "            </span>\n",
    "        </td>\n",
    "    </tr>\n",
    "</table>"
   ]
  },
  {
   "cell_type": "code",
   "execution_count": 13,
   "metadata": {},
   "outputs": [],
   "source": [
    "# First create the messages:\n",
    "\n",
    "messages = [{\"role\": \"user\", \"content\": \"What skills are required for interview in Agentic AI project?\"}]\n",
    "\n",
    "# Then make the first call:\n",
    "\n",
    "response = openai.chat.completions.create(\n",
    "    model=\"gpt-4o-mini\",\n",
    "    messages=messages\n",
    ")\n",
    "\n",
    "# Then read the business idea:\n",
    "\n",
    "business_idea = response.choices[0].message.content\n",
    "\n",
    "# And repeat!"
   ]
  },
  {
   "cell_type": "code",
   "execution_count": 14,
   "metadata": {},
   "outputs": [
    {
     "name": "stdout",
     "output_type": "stream",
     "text": [
      "When preparing for an interview for a project focused on Agentic AI, candidates should be equipped with a diverse set of skills that span technical, analytical, and soft skills. Here are some key skills and areas of expertise that may be relevant:\n",
      "\n",
      "### Technical Skills\n",
      "\n",
      "1. **Machine Learning and AI Knowledge**:\n",
      "   - Understanding of supervised, unsupervised, and reinforcement learning techniques.\n",
      "   - Familiarity with neural networks, natural language processing (NLP), and computer vision.\n",
      "\n",
      "2. **Programming Proficiency**:\n",
      "   - Strong coding skills in languages commonly used in AI such as Python, R, or Java.\n",
      "   - Experience with machine learning libraries and frameworks such as TensorFlow, PyTorch, or scikit-learn.\n",
      "\n",
      "3. **Data Handling and Analysis**:\n",
      "   - Proficiency in data manipulation and analysis using tools like pandas, NumPy, or SQL.\n",
      "   - Experience in working with large datasets, data cleaning, and preprocessing.\n",
      "\n",
      "4. **Algorithm Design**:\n",
      "   - Ability to design and implement algorithms for various AI applications.\n",
      "   - Understanding of optimization techniques and heuristics.\n",
      "\n",
      "5. **Software Development Practices**:\n",
      "   - Familiarity with version control systems (e.g., Git), testing, and deployment processes.\n",
      "   - Knowledge of software development methodologies (Agile, DevOps).\n",
      "\n",
      "6. **Mathematics and Statistics**:\n",
      "   - Strong foundation in linear algebra, calculus, probability, and statistics.\n",
      "\n",
      "### Analytical and Problem-Solving Skills\n",
      "\n",
      "1. **Critical Thinking**:\n",
      "   - Ability to evaluate complex problems and develop innovative AI solutions.\n",
      "\n",
      "2. **Statistical Analysis**:\n",
      "   - Competency in performing statistical tests and deriving meaningful insights from data.\n",
      "\n",
      "3. **Research Skills**:\n",
      "   - Ability to stay updated with the latest research in AI and related fields.\n",
      "   - Experience with reading and understanding academic papers.\n",
      "\n",
      "### Domain Knowledge\n",
      "\n",
      "1. **Understanding of AI Ethics**:\n",
      "   - Awareness of ethical considerations in AI, including bias, fairness, accountability, and transparency.\n",
      "\n",
      "2. **Knowledge of Relevant Applications**:\n",
      "   - Familiarity with the specific application area of Agentic AI, whether it's finance, healthcare, robotics, etc.\n",
      "\n",
      "### Soft Skills\n",
      "\n",
      "1. **Communication Skills**:\n",
      "   - Ability to explain complex technical concepts to non-technical stakeholders.\n",
      "   - Strong writing skills for documentation and reporting.\n",
      "\n",
      "2. **Collaboration and Teamwork**:\n",
      "   - Experience working in interdisciplinary teams and contributing to group projects.\n",
      "\n",
      "3. **Adaptability and Learning Agility**:\n",
      "   - Willingness to learn new technologies and adapt to changing project requirements.\n",
      "\n",
      "### Project Management Skills\n",
      "\n",
      "1. **Organizational Skills**:\n",
      "   - Ability to manage time effectively and prioritize tasks in a fast-paced environment.\n",
      "\n",
      "2. **Understanding of Project Methodologies**:\n",
      "   - Familiarity with methodologies such as Agile, Scrum, or Kanban.\n",
      "\n",
      "### Optional Skills\n",
      "\n",
      "1. **Deployment and Production Systems**:\n",
      "   - Experience with deploying AI models into production, including knowledge of cloud platforms (AWS, Azure, GCP).\n",
      "\n",
      "2. **User Experience (UX) Design**:\n",
      "   - Understanding of user-centered design principles if the project is user-facing.\n",
      "\n",
      "By preparing in these areas, candidates can position themselves as strong contenders for roles in Agentic AI projects. It's also beneficial to tailor your preparation based on the specific requirements outlined in the job description.\n"
     ]
    }
   ],
   "source": [
    "print(business_idea)"
   ]
  },
  {
   "cell_type": "markdown",
   "metadata": {},
   "source": []
  }
 ],
 "metadata": {
  "kernelspec": {
   "display_name": ".venv",
   "language": "python",
   "name": "python3"
  },
  "language_info": {
   "codemirror_mode": {
    "name": "ipython",
    "version": 3
   },
   "file_extension": ".py",
   "mimetype": "text/x-python",
   "name": "python",
   "nbconvert_exporter": "python",
   "pygments_lexer": "ipython3",
   "version": "3.12.10"
  }
 },
 "nbformat": 4,
 "nbformat_minor": 2
}
